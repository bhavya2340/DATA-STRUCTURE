{
  "nbformat": 4,
  "nbformat_minor": 0,
  "metadata": {
    "colab": {
      "provenance": []
    },
    "kernelspec": {
      "name": "python3",
      "display_name": "Python 3"
    },
    "language_info": {
      "name": "python"
    }
  },
  "cells": [
    {
      "cell_type": "markdown",
      "source": [
        "# **1. What are data structures, and why are they important?**\n",
        "\n",
        "\n",
        "Data structure is something in which data is store, organise and mange data.This is important because the python is usvally work in mangeable data and mangew data help everone to understand easily.\n",
        "\n",
        "---\n",
        "\n",
        "# **2. Explain the difference between mutable and immutable data types with example.**\n",
        "\n",
        "\n",
        "The main difference between mutable and immutable data type is that the mutable data type change after they are created ,but immutable data type is that which cannot be change anytime after they are created like tuple.\n",
        "\n",
        "---\n",
        "\n",
        "# **3.What are the main differences between lists and tuples in Python?**\n",
        "\n",
        "The main difference between list and tuple is that list are mutable so that why it can change after they are created. But tuple are immutable which cannot change.\n",
        "\n",
        "---\n",
        "\n",
        "# **4.Describe how dictionaries store data.**\n",
        "\n",
        "A dictionary in python is something that store the the key value .Each key value is something which determine and store in a memory and store in a memory.The dictionary are also immutable.\n",
        "\n",
        "---\n",
        "\n",
        "# **5.Why might you use a set instead of a list in Python?**\n",
        "\n",
        "if  i donot want to store ny unique value in the data or if  i donot want to make a proper sequence and if you want to work faster and frequant.\n",
        "\n",
        "---\n",
        "\n",
        "# **6.What is a string in Python, and how is it different from a list?**\n",
        "\n",
        "The string is a sequance of character use in python to represent text and it are also immutable. While list is a sequence of element that are represent and they are mutable.\n",
        "\n",
        "---\n",
        "\n",
        "# **7.How do tuples ensure data integrity in Python?**\n",
        "\n",
        "As the tuple are the immutable data type so python ensure that it are safe and cannot be change so data integrity is offered in tuple.\n",
        "\n",
        "---\n",
        "\n",
        "# **8.What is a hash table, and how does it relate to dictionaries in Python?**\n",
        "\n",
        "A hash table is a data structure that store data in key value pair and use as key value function.While dictionaries are also relateable because it implemented by hash table only.\n",
        "\n",
        "---\n",
        "\n",
        "# **9.Can lists contain different data types in Python?**\n",
        "\n",
        "Yes, lists in Python can contain different data types, such as integers, strings, floats, and even other lists or objects, all within the same list.\n",
        "\n",
        "---\n",
        "\n",
        "# **10.Explain why strings are immutable in Python.**\n",
        "\n",
        "Strings are immutable in Python to ensure data integrity, improve performance, and make them safe to use as keys in dictionaries. When a string is created, it cannot be changed—any modification creates a new string—this design helps prevent unexpected side effects and makes strings more efficient and secure in memory management.\n",
        "\n",
        "---\n",
        "\n",
        "# **11.What advantages do dictionaries offer over lists for certain tasks?**\n",
        "\n",
        "Dictionaries offer advantages over lists for tasks that require fast lookups,associating values with unique keys, and unordered data storage. Unlike lists, where you access elements by index, dictionaries let you access values directly using descriptive keys, making code more readable and efficient, especially when handling large datasets or when key-based access is needed.\n",
        "\n",
        "---\n",
        "\n",
        "# **12.Describe a scenario where using a tuple would be preferable over a list?**\n",
        "\n",
        "\n",
        "Using a tuple is preferable over a list when you need to store a fixed collection of values that should not change, such as the coordinates of a point `(x, y)`, or configuration settings that must remain constant throughout the program to ensure data integrity and allow for safe use as dictionary keys.\n",
        "\n",
        "---\n",
        "\n",
        "# **13.How do sets handle duplicate values in Python?**\n",
        "\n",
        "\n",
        "Sets in Python automatically remove duplicate values. When you add items to a set, only unique elements are kept, and any duplicates are ignored.\n",
        "\n",
        "---\n",
        "\n",
        "# **14.How does the “in” keyword work differently for lists and dictionaries?**\n",
        "\n",
        "In Python, the `in` keyword works differently for lists and dictionaries:\n",
        "\n",
        "* For lists, `in` checks whether a value exists in the list.\n",
        "* For dictionaries, `in` checks whether a key exists in the dictionary (not the value).\n",
        "\n",
        "---\n",
        "\n",
        "# **15.Can you modify the elements of a tuple? Explain why or why not?**\n",
        "\n",
        "No, you cannot modify the elements of a tuple because tuples are immutable in Python. Once a tuple is created, its elements cannot be changed, added, or removed, which helps maintain data consistency and integrity.\n",
        "\n",
        "---\n",
        "\n",
        "# **16.What is a nested dictionary, and give an example of its use case?**\n",
        "\n",
        "\n",
        "A nested dictioonary isa dictionary  where a value themselve are dictionaries.\n",
        "students = {\n",
        "    \"101\": {\"name\": \"Alice\", \"age\": 20, \"grade\": \"A\"},\n",
        "    \"102\": {\"name\": \"Bob\", \"age\": 21, \"grade\": \"B\"}\n",
        "}\n",
        "\n",
        "\n",
        "---\n",
        "\n",
        "#**17.Describe the time complexity of accessing elements in a dictionary.**\n",
        "\n",
        "\n",
        "The time complexity of accessing elements in a dictionary is **O(1)** on average, meaning it takes constant time regardless of the dictionary size, thanks to the underlying **hash table** structure. However, in rare cases of hash collisions, it can degrade to **O(n)** in the worst case.\n",
        "\n",
        "\n",
        "---\n",
        "\n",
        "#**18.Why are dictionaries considered unordered, and how does that affect data retrieval?**\n",
        "\n",
        "Dictionaries are considered unordered because you access values by keys, not by position, and their internal order isn't meant to be relied on. This means you can't retrieve items by index, only by their key.\n",
        "\n",
        "---\n",
        "\n",
        "#**19.In what situations are lists preferred over dictionaries?**\n",
        "\n",
        "\n",
        "**Lists are preferred when:**\n",
        "\n",
        "* Order matters\n",
        "* You access items by position (index)\n",
        "* You allow duplicates\n",
        "* No need for key-value pairs\n",
        "\n",
        "---\n",
        "\n",
        "#**20.Explain the difference between a list and a dictionary in terms of data retrieval.**\n",
        "\n",
        "List maintain order while dictionary doesnot .\n",
        "\n",
        "---\n",
        "\n",
        "\n"
      ],
      "metadata": {
        "id": "GAh43jkPCYkq"
      }
    },
    {
      "cell_type": "code",
      "execution_count": null,
      "metadata": {
        "id": "qwlgANsnCRZ5",
        "colab": {
          "base_uri": "https://localhost:8080/"
        },
        "outputId": "c0338ecd-a1b1-4c41-8cdf-ec901fa91485"
      },
      "outputs": [
        {
          "output_type": "stream",
          "name": "stdout",
          "text": [
            "Bhavya\n"
          ]
        }
      ],
      "source": [
        "##1.Write a code to create a string with your name and print it\n",
        "\n",
        "name = \"Bhavya\"\n",
        "print(name)"
      ]
    },
    {
      "cell_type": "code",
      "source": [
        "##2.Write a code to find the length of the string \"Hello World\"\n",
        "\n",
        "string= \" hello world\"\n",
        "print(len(string))"
      ],
      "metadata": {
        "colab": {
          "base_uri": "https://localhost:8080/"
        },
        "id": "gtWKFlyzRo76",
        "outputId": "b2ef4585-6ef3-4109-a727-278bc7858b94"
      },
      "execution_count": null,
      "outputs": [
        {
          "output_type": "stream",
          "name": "stdout",
          "text": [
            "12\n"
          ]
        }
      ]
    },
    {
      "cell_type": "code",
      "source": [
        "# #3.Write a code to slice the first 3 characters from the string \"Python\n",
        "# Programming\".\n",
        "\n",
        "s= \"Python programming\"\n",
        "print(s[0:3])"
      ],
      "metadata": {
        "colab": {
          "base_uri": "https://localhost:8080/"
        },
        "id": "wF2iieQ4Rova",
        "outputId": "a5cf5747-d451-424a-896c-87a8c06fb259"
      },
      "execution_count": null,
      "outputs": [
        {
          "output_type": "stream",
          "name": "stdout",
          "text": [
            "Pyt\n"
          ]
        }
      ]
    },
    {
      "cell_type": "code",
      "source": [
        "##4.Write a code to convert the string \"hello\" to uppercase\n",
        "\n",
        "s= \"hello \"\n",
        "print(s.upper())"
      ],
      "metadata": {
        "colab": {
          "base_uri": "https://localhost:8080/"
        },
        "id": "Trl8ReqZRoir",
        "outputId": "22f634bb-6b26-4acc-8619-259fead3e62f"
      },
      "execution_count": null,
      "outputs": [
        {
          "output_type": "stream",
          "name": "stdout",
          "text": [
            "HELLO \n"
          ]
        }
      ]
    },
    {
      "cell_type": "code",
      "source": [
        "# #5.Write a code to replace the word \"apple\" with \"orange\" in the string \"I\n",
        "# like apple.\n",
        "\n",
        "s=\"I like apple\"\n",
        "print(s.replace(\"apple\",\"orange\"))"
      ],
      "metadata": {
        "colab": {
          "base_uri": "https://localhost:8080/"
        },
        "id": "kJgBzVgPRoJ5",
        "outputId": "7e13c8d4-dcb4-4867-df72-c2218dbce661"
      },
      "execution_count": null,
      "outputs": [
        {
          "output_type": "stream",
          "name": "stdout",
          "text": [
            "I like orange\n"
          ]
        }
      ]
    },
    {
      "cell_type": "code",
      "source": [
        "##6.Write a code to create a list with numbers 1 to 5 and print it\n",
        "\n",
        "l=[1,2,3,4,5]\n",
        "print(l)"
      ],
      "metadata": {
        "colab": {
          "base_uri": "https://localhost:8080/"
        },
        "id": "g4UOvRRFRoAj",
        "outputId": "72d56d8c-7f00-4555-8d2a-ec890272dff9"
      },
      "execution_count": null,
      "outputs": [
        {
          "output_type": "stream",
          "name": "stdout",
          "text": [
            "[1, 2, 3, 4, 5]\n"
          ]
        }
      ]
    },
    {
      "cell_type": "code",
      "source": [
        "##7.Write a code to append the number 10 to the list [1, 2, 3, 4].\n",
        "\n",
        "i=[1,2,3,4]\n",
        "i.append(10)\n",
        "print(i)"
      ],
      "metadata": {
        "colab": {
          "base_uri": "https://localhost:8080/"
        },
        "id": "QwuQtfBeUjEJ",
        "outputId": "46a8b125-13bc-44dd-a5c3-74f08c71d735"
      },
      "execution_count": null,
      "outputs": [
        {
          "output_type": "stream",
          "name": "stdout",
          "text": [
            "[1, 2, 3, 4, 10]\n"
          ]
        }
      ]
    },
    {
      "cell_type": "code",
      "source": [
        "##8.Write a code to remove the number 3 from the list [1, 2, 3, 4, 5].\n",
        "\n",
        "i=[1,2,3,4,5]\n",
        "i.remove(3)\n",
        "print(i)"
      ],
      "metadata": {
        "colab": {
          "base_uri": "https://localhost:8080/"
        },
        "id": "WRmamMMZUi7n",
        "outputId": "cedf5fc7-c34a-4b05-e292-05f234bd55df"
      },
      "execution_count": null,
      "outputs": [
        {
          "output_type": "stream",
          "name": "stdout",
          "text": [
            "[1, 2, 4, 5]\n"
          ]
        }
      ]
    },
    {
      "cell_type": "code",
      "source": [
        "##9.Write a code to access the second element in the list ['a', 'b', 'c', 'd']\n",
        "\n",
        "o=['a', 'b', 'c', 'd']\n",
        "print(o[1])"
      ],
      "metadata": {
        "colab": {
          "base_uri": "https://localhost:8080/"
        },
        "id": "IOozlaMjUi4O",
        "outputId": "dc04505a-4406-459c-df76-9974910e1f65"
      },
      "execution_count": null,
      "outputs": [
        {
          "output_type": "stream",
          "name": "stdout",
          "text": [
            "b\n"
          ]
        }
      ]
    },
    {
      "cell_type": "code",
      "source": [
        "\n",
        "##10.Write a code to reverse the list [10, 20, 30, 40, 50]\n",
        "##10.Write a code to reverse the list [10, 20, 30, 40, 50]\n",
        "\n",
        "o=[10,20,30,40,50]\n",
        "reversed_list= o[::-1]\n",
        "print(\"reverse_list:\",reversed_list)"
      ],
      "metadata": {
        "id": "H9oKGIJ5Ui0H",
        "colab": {
          "base_uri": "https://localhost:8080/"
        },
        "outputId": "b8ff411d-55be-49c0-b97f-0843dda5cfc0"
      },
      "execution_count": null,
      "outputs": [
        {
          "output_type": "stream",
          "name": "stdout",
          "text": [
            "reverse_list: [50, 40, 30, 20, 10]\n"
          ]
        }
      ]
    },
    {
      "cell_type": "code",
      "source": [
        "##11.Write a code to create a tuple with the elements 100, 200, 300 and print it\n",
        "\n",
        "tu=(100,200,300)\n",
        "print(tu)"
      ],
      "metadata": {
        "colab": {
          "base_uri": "https://localhost:8080/"
        },
        "id": "k4z7BGGoPw45",
        "outputId": "61cb0729-45f3-4ec8-b284-33694e349e80"
      },
      "execution_count": null,
      "outputs": [
        {
          "output_type": "stream",
          "name": "stdout",
          "text": [
            "(100, 200, 300)\n"
          ]
        }
      ]
    },
    {
      "cell_type": "code",
      "source": [
        "# #12.Write a code to access the second-to-last element of the tuple ('red',\n",
        "# 'green', 'blue', 'yellow')\n",
        "\n",
        "c=('red', 'green', 'blue', 'yellow')\n",
        "c1=c[-2]\n",
        "print(c1)"
      ],
      "metadata": {
        "colab": {
          "base_uri": "https://localhost:8080/"
        },
        "id": "pqBp5HUaPwwV",
        "outputId": "0ce10d22-59bb-4353-f382-9f69cde939e6"
      },
      "execution_count": null,
      "outputs": [
        {
          "output_type": "stream",
          "name": "stdout",
          "text": [
            "blue\n"
          ]
        }
      ]
    },
    {
      "cell_type": "code",
      "source": [
        "##13. Write a code to find the minimum number in the tuple (10, 20, 5, 15)\n",
        "\n",
        "a=(10,20,5,15)\n",
        "min_num=min(a)\n",
        "print(min_num)\n"
      ],
      "metadata": {
        "colab": {
          "base_uri": "https://localhost:8080/"
        },
        "id": "oXE2TK2-PwoZ",
        "outputId": "a3bd0ca1-6376-4606-902a-e4dcd9bae23b"
      },
      "execution_count": null,
      "outputs": [
        {
          "output_type": "stream",
          "name": "stdout",
          "text": [
            "5\n"
          ]
        }
      ]
    },
    {
      "cell_type": "code",
      "source": [
        "# #14. Write a code to find the index of the element \"cat\" in the tuple ('dog',\n",
        "# 'cat', 'rabbit') %%\n",
        "\n",
        "\n",
        "a=('dog', 'cat', 'rabbit')\n",
        "index=a.index(\"cat\")\n",
        "print(index)"
      ],
      "metadata": {
        "colab": {
          "base_uri": "https://localhost:8080/"
        },
        "id": "ny2A4UzYPwkm",
        "outputId": "00b073c0-ab78-402a-f03c-1d805cb53862"
      },
      "execution_count": null,
      "outputs": [
        {
          "output_type": "stream",
          "name": "stdout",
          "text": [
            "1\n"
          ]
        }
      ]
    },
    {
      "cell_type": "code",
      "source": [
        "# #15 Write a code to create a tuple containing three different fruits and check\n",
        "# if \"kiwi\" is in it %%\n",
        "\n",
        "a=('apple,banana,mango')\n",
        "if \"kiwi\" in a:\n",
        "  print(\"yes\")\n",
        "else:\n",
        "  print(\"no\")"
      ],
      "metadata": {
        "colab": {
          "base_uri": "https://localhost:8080/"
        },
        "id": "UOgho9c4PwgX",
        "outputId": "8626d256-bbd8-401c-e3b9-e365c5439231"
      },
      "execution_count": null,
      "outputs": [
        {
          "output_type": "stream",
          "name": "stdout",
          "text": [
            "no\n"
          ]
        }
      ]
    },
    {
      "cell_type": "code",
      "source": [
        "##16.Write a code to create a set with the elements 'a', 'b', 'c' and print it\n",
        "\n",
        "a={'a','b','c'}\n",
        "print(a)"
      ],
      "metadata": {
        "colab": {
          "base_uri": "https://localhost:8080/"
        },
        "id": "qsCWSemXPwdT",
        "outputId": "275cfdce-bff4-4789-f148-f662e351f4e2"
      },
      "execution_count": null,
      "outputs": [
        {
          "output_type": "stream",
          "name": "stdout",
          "text": [
            "{'a', 'c', 'b'}\n"
          ]
        }
      ]
    },
    {
      "cell_type": "code",
      "source": [
        "##17.Write a code to clear all elements from the set {1, 2, 3, 4, 5}\n",
        "\n",
        "a={1,2,3,4,5}\n",
        "a.clear()\n",
        "print(a)"
      ],
      "metadata": {
        "colab": {
          "base_uri": "https://localhost:8080/"
        },
        "id": "863gVHERPwZQ",
        "outputId": "938d160b-5cc2-4bdf-e143-778f84668a9d"
      },
      "execution_count": null,
      "outputs": [
        {
          "output_type": "stream",
          "name": "stdout",
          "text": [
            "set()\n"
          ]
        }
      ]
    },
    {
      "cell_type": "code",
      "source": [
        "##18.Write a code to remove the element 4 from the set {1, 2, 3, 4 }\n",
        "\n",
        "a={1,2,3,4}\n",
        "a.remove(4)\n",
        "print(a)"
      ],
      "metadata": {
        "colab": {
          "base_uri": "https://localhost:8080/"
        },
        "id": "alAZCrNrPwW6",
        "outputId": "89ee585e-a4c6-4aa8-c5a6-e12db98a7f02"
      },
      "execution_count": null,
      "outputs": [
        {
          "output_type": "stream",
          "name": "stdout",
          "text": [
            "{1, 2, 3}\n"
          ]
        }
      ]
    },
    {
      "cell_type": "code",
      "source": [
        "##19. Write a code to find the union of two sets {1, 2, 3} and {3, 4, 5}\n",
        "\n",
        "a={1,2,3}\n",
        "b={3,4,5}\n",
        "print(a.union(b))"
      ],
      "metadata": {
        "colab": {
          "base_uri": "https://localhost:8080/"
        },
        "id": "5M5LnBtMPwSs",
        "outputId": "19cf06fa-bb67-46bc-b35d-9175a047a7d4"
      },
      "execution_count": null,
      "outputs": [
        {
          "output_type": "stream",
          "name": "stdout",
          "text": [
            "{1, 2, 3, 4, 5}\n"
          ]
        }
      ]
    },
    {
      "cell_type": "code",
      "source": [
        "##20. Write a code to find the intersection of two sets {1, 2, 3} and {2, 3, 4}.\n",
        "\n",
        "a={1,2,3}\n",
        "b={2,3,4}\n",
        "intersection=a.intersection(b)\n",
        "print(intersection)"
      ],
      "metadata": {
        "colab": {
          "base_uri": "https://localhost:8080/"
        },
        "id": "qTXwe56oPwN3",
        "outputId": "52a4fa31-8666-4646-a596-dd8388ed220d"
      },
      "execution_count": null,
      "outputs": [
        {
          "output_type": "stream",
          "name": "stdout",
          "text": [
            "{2, 3}\n"
          ]
        }
      ]
    },
    {
      "cell_type": "code",
      "source": [
        "##21. Write a code to create a dictionary with the keys \"name\", \"age\", and\n",
        "#\"city\", and print it.\n",
        "\n",
        "a={\"name\":\"bhavya\",\"age\":20,\"city\":\"surat\"}\n",
        "print(a)"
      ],
      "metadata": {
        "colab": {
          "base_uri": "https://localhost:8080/"
        },
        "id": "6lwL0NyYfgap",
        "outputId": "4055484a-e106-431e-8017-80dd61a18f5e"
      },
      "execution_count": null,
      "outputs": [
        {
          "output_type": "stream",
          "name": "stdout",
          "text": [
            "{'name': 'bhavya', 'age': 20, 'city': 'surat'}\n"
          ]
        }
      ]
    },
    {
      "cell_type": "code",
      "source": [
        "##22. Write a code to add a new key-value pair \"country\": \"USA\" to the\n",
        "#dictionary {'name': 'John', 'age': 25}.\n",
        "\n",
        "a={'name': 'John', 'age': 25}\n",
        "a[\"country\"]=\"USA\"\n",
        "print(a)"
      ],
      "metadata": {
        "colab": {
          "base_uri": "https://localhost:8080/"
        },
        "id": "QB7xo0xifgP1",
        "outputId": "1a4367c1-cfac-4af7-b33f-7cb1c5e84daa"
      },
      "execution_count": null,
      "outputs": [
        {
          "output_type": "stream",
          "name": "stdout",
          "text": [
            "{'name': 'John', 'age': 25, 'country': 'USA'}\n"
          ]
        }
      ]
    },
    {
      "cell_type": "code",
      "source": [
        "##23. Write a code to access the value associated with the key \"name\" in the\n",
        "# dictionary {'name': 'Alice', 'age': 30}.\n",
        "\n",
        "a={'name':'Alice','age':30}\n",
        "print(a[\"name\"])"
      ],
      "metadata": {
        "colab": {
          "base_uri": "https://localhost:8080/"
        },
        "id": "ZyLUellyfgCO",
        "outputId": "ff9f16ad-97fd-421b-b0a5-f21334e525cb"
      },
      "execution_count": null,
      "outputs": [
        {
          "output_type": "stream",
          "name": "stdout",
          "text": [
            "Alice\n"
          ]
        }
      ]
    },
    {
      "cell_type": "code",
      "source": [
        "##24. Write a code to remove the key \"age\" from the dictionary {'name': 'Bob',\n",
        "#'age': 22, 'city': 'New York'}.\n",
        "\n",
        "a={'name': 'Bob', 'age': 22, 'city': 'New York'}\n",
        "del a[\"age\"]\n",
        "print(a)"
      ],
      "metadata": {
        "colab": {
          "base_uri": "https://localhost:8080/"
        },
        "id": "fyYf5bAoffy3",
        "outputId": "1e0722dd-e10e-4527-bdd8-151c5e74f39c"
      },
      "execution_count": null,
      "outputs": [
        {
          "output_type": "stream",
          "name": "stdout",
          "text": [
            "{'name': 'Bob', 'city': 'New York'}\n"
          ]
        }
      ]
    },
    {
      "cell_type": "code",
      "source": [
        "##25. Write a code to check if the key \"city\" exists in the dictionary {'name':\n",
        "# 'Alice', 'city': 'Paris'}.\n",
        "\n",
        "a={'name': 'Alice', 'city': 'Paris'}\n",
        "if \"city\" in a:\n",
        "  print(\"yes\")\n",
        "else:\n",
        "  print(\"no\")\n"
      ],
      "metadata": {
        "colab": {
          "base_uri": "https://localhost:8080/"
        },
        "id": "ZEC1UgFUffj9",
        "outputId": "fd99b5ff-5f18-4e1e-f020-4ba7100428ef"
      },
      "execution_count": null,
      "outputs": [
        {
          "output_type": "stream",
          "name": "stdout",
          "text": [
            "yes\n"
          ]
        }
      ]
    },
    {
      "cell_type": "code",
      "source": [
        "##26. Write a code to create a list, a tuple, and a dictionary, and print them\n",
        "#all.\n",
        "\n",
        "a=[1,2,3,4]\n",
        "print(type(a))\n",
        "b=(1,2,3,4)\n",
        "print(type(b))\n",
        "c={1,2,3,4}\n",
        "print(type(c))"
      ],
      "metadata": {
        "colab": {
          "base_uri": "https://localhost:8080/"
        },
        "id": "MzPaYHyGffVf",
        "outputId": "53bef1ee-dea8-4bfb-ca43-ec91d74e09e3"
      },
      "execution_count": null,
      "outputs": [
        {
          "output_type": "stream",
          "name": "stdout",
          "text": [
            "<class 'list'>\n",
            "<class 'tuple'>\n",
            "<class 'set'>\n"
          ]
        }
      ]
    },
    {
      "cell_type": "code",
      "source": [
        "##27. Write a code to create a list of 5 random numbers between 1 and 100, sort\n",
        "#it in ascending order, and print the result.\n",
        "\n",
        "import random\n",
        "a=[random.randint(1,100) for i in range(5)]\n",
        "a.sort()\n",
        "print(a)"
      ],
      "metadata": {
        "colab": {
          "base_uri": "https://localhost:8080/"
        },
        "id": "P957M6FWffIF",
        "outputId": "17ae6ac0-390f-4823-beef-2c454a6fd473"
      },
      "execution_count": null,
      "outputs": [
        {
          "output_type": "stream",
          "name": "stdout",
          "text": [
            "[14, 20, 40, 86, 95]\n"
          ]
        }
      ]
    },
    {
      "cell_type": "code",
      "source": [
        "##28. Write a code to create a list with strings and print the element at the\n",
        "#third index.\n",
        "\n",
        "a=[\"apple\",\"banana\",\"mango\",\"orange\"]\n",
        "print(a[3])"
      ],
      "metadata": {
        "colab": {
          "base_uri": "https://localhost:8080/"
        },
        "id": "kiitfrYefe7P",
        "outputId": "a052b6ee-81f1-4976-abdd-640ff0133b7f"
      },
      "execution_count": null,
      "outputs": [
        {
          "output_type": "stream",
          "name": "stdout",
          "text": [
            "orange\n"
          ]
        }
      ]
    },
    {
      "cell_type": "code",
      "source": [
        "  ##29. Write a code to combine two dictionaries into one and print the result.\n",
        "\n",
        "  a= {\"name\": \"Alice\", \"age\": 25}\n",
        "  b= {\"city\": \"New York\", \"country\": \"USA\"}\n",
        "  a.update(b)\n",
        "  print(a)"
      ],
      "metadata": {
        "id": "G5encN73ferf",
        "outputId": "c16fb78e-9d00-4b14-9461-e7ab46a9176d",
        "colab": {
          "base_uri": "https://localhost:8080/"
        }
      },
      "execution_count": null,
      "outputs": [
        {
          "output_type": "stream",
          "name": "stdout",
          "text": [
            "{'name': 'Alice', 'age': 25, 'city': 'New York', 'country': 'USA'}\n"
          ]
        }
      ]
    },
    {
      "cell_type": "code",
      "source": [
        "##30. Write a code to convert a list of strings into a set.\\\n",
        "\n",
        "a={\"apple\",\"banana\",\"mango\"}\n",
        "print(type(a))"
      ],
      "metadata": {
        "id": "UKkdDwoAfeW9",
        "colab": {
          "base_uri": "https://localhost:8080/"
        },
        "outputId": "2938edf5-eff2-469f-bad5-1ec8e0d2fb39"
      },
      "execution_count": 2,
      "outputs": [
        {
          "output_type": "stream",
          "name": "stdout",
          "text": [
            "<class 'set'>\n"
          ]
        }
      ]
    }
  ]
}